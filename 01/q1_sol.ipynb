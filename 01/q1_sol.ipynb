{
  "cells": [
    {
      "metadata": {
        "_uuid": "8f2839f25d086af736a60e9eeb907d3b93b6e0e5",
        "_cell_guid": "b1076dfc-b9ad-4769-8c92-a6c4dae69d19",
        "trusted": true
      },
      "cell_type": "code",
      "source": "import tensorflow as tf\nimport os\nos.environ['TF_CPP_MIN_LOG_LEVEL']='2' # warning + error",
      "execution_count": 55,
      "outputs": []
    },
    {
      "metadata": {
        "trusted": true,
        "_uuid": "ab2f6817f3cb3cf8c1a986fb2b41d54d33b09eff"
      },
      "cell_type": "code",
      "source": "sess = tf.InteractiveSession()\n###############################################################################\n# 1a: Create two random 0-d tensors x and y of any distribution.\n# Create a TensorFlow object that returns x + y if x > y, and x - y otherwise.\n# Hint: look up tf.cond()\n# I do the first problem for you\n###############################################################################\nx = tf.random_uniform([])  # Empty array as shape creates a scalar.\ny = tf.random_uniform([])\nprint(x.eval())\nprint(y.eval())\nout = tf.cond(tf.greater(x, y), lambda: x + y, lambda: x - y)\nprint(sess.run(out))",
      "execution_count": 56,
      "outputs": [
        {
          "output_type": "stream",
          "text": "0.074180484\n0.47967994\n1.0893682\n",
          "name": "stdout"
        }
      ]
    },
    {
      "metadata": {
        "trusted": true,
        "_uuid": "3558690c0c771930eac18a0b72497275caf18834"
      },
      "cell_type": "code",
      "source": "###############################################################################\n# 1b: Create two 0-d tensors x and y randomly selected from the range [-1, 1).\n# Return x + y if x < y, x - y if x > y, 0 otherwise.\n# Hint: Look up tf.case().\n###############################################################################\nx = tf.random_uniform([],-1,1)  # (shape,min,max) range in [min,max)\ny = tf.random_uniform([],-1,1) \nprint(x.eval())\nprint(y.eval())\nout = tf.case({\n                tf.less(x,y): lambda: tf.add(x,y) ,\n                tf.greater(x,y): lambda: tf.subtract(x,y),\n              },\n            default= lambda: tf.constant(0.),\n            exclusive=True)\nprint(sess.run(out))",
      "execution_count": 58,
      "outputs": [
        {
          "output_type": "stream",
          "text": "-0.3602655\n0.6577325\n-0.15120411\n",
          "name": "stdout"
        }
      ]
    },
    {
      "metadata": {
        "_uuid": "3c5d0c71896b8330b86599789d01a5baecafd9dd"
      },
      "cell_type": "markdown",
      "source": "我估計他在跑sess.run(out)的時候才會有新的x,y 不然值都不符合"
    },
    {
      "metadata": {
        "trusted": true,
        "_uuid": "857a98eae9030c98f044950987cad69f0bf20d90"
      },
      "cell_type": "code",
      "source": "###############################################################################\n# 1c: Create the tensor x of the value [[0, -2, -1], [0, 1, 2]] \n# and y as a tensor of zeros with the same shape as x.\n# Return a boolean tensor that yields Trues if x equals y element-wise.\n# Hint: Look up tf.equal().\n###############################################################################\nx = tf.constant([[0,-2,1],[0,1,2]])\ny = tf.zeros_like(x)\nprint(sess.run(tf.equal(x,y)))",
      "execution_count": 61,
      "outputs": [
        {
          "output_type": "stream",
          "text": "[[ True False False]\n [ True False False]]\n",
          "name": "stdout"
        }
      ]
    },
    {
      "metadata": {
        "trusted": true,
        "_uuid": "ac1f05a08a0ada1b8bfb9e9efed447cabce1f114"
      },
      "cell_type": "code",
      "source": "###############################################################################\n# 1d: Create the tensor x of value \n# [29.05088806,  27.61298943,  31.19073486,  29.35532951,\n#  30.97266006,  26.67541885,  38.08450317,  20.74983215,\n#  34.94445419,  34.45999146,  29.06485367,  36.01657104,\n#  27.88236427,  20.56035233,  30.20379066,  29.51215172,\n#  33.71149445,  28.59134293,  36.05556488,  28.66994858].\n# Get the indices of elements in x whose values are greater than 30.\n# Hint: Use tf.where().\n# Then extract elements whose values are greater than 30.\n# Hint: Use tf.gather().\n###############################################################################\nx = tf.constant(\n    [29.05088806,  27.61298943,  31.19073486,  29.35532951,\n    30.97266006,  26.67541885,  38.08450317,  20.74983215,\n    34.94445419,  34.45999146,  29.06485367,  36.01657104,\n    27.88236427,  20.56035233,  30.20379066,  29.51215172,\n    33.71149445,  28.59134293,  36.05556488,  28.66994858])\nidx = tf.where(tf.greater(x,30.))\nprint(idx.eval())\nout = tf.gather(x,idx)\nprint(out.eval())",
      "execution_count": 68,
      "outputs": [
        {
          "output_type": "stream",
          "text": "[[ 2]\n [ 4]\n [ 6]\n [ 8]\n [ 9]\n [11]\n [14]\n [16]\n [18]]\n[[31.190735]\n [30.97266 ]\n [38.084503]\n [34.944454]\n [34.45999 ]\n [36.01657 ]\n [30.20379 ]\n [33.711494]\n [36.055565]]\n",
          "name": "stdout"
        }
      ]
    },
    {
      "metadata": {
        "trusted": true,
        "_uuid": "5fb8b98d328e1d2c54a795ad26e864ca725fce2c"
      },
      "cell_type": "code",
      "source": "###############################################################################\n# 1e: Create a diagnoal 2-d tensor of size 6 x 6 with the diagonal values of 1,\n# 2, ..., 6\n# Hint: Use tf.range() and tf.diag().\n###############################################################################\nx=tf.range(1,7)\nprint(tf.diag(x).eval())",
      "execution_count": 72,
      "outputs": [
        {
          "output_type": "stream",
          "text": "[[1 0 0 0 0 0]\n [0 2 0 0 0 0]\n [0 0 3 0 0 0]\n [0 0 0 4 0 0]\n [0 0 0 0 5 0]\n [0 0 0 0 0 6]]\n",
          "name": "stdout"
        }
      ]
    },
    {
      "metadata": {
        "_kg_hide-output": true,
        "_kg_hide-input": true,
        "_uuid": "8f1710232c8dcfee2f8e4fcaf5bf181532ff12b6"
      },
      "cell_type": "markdown",
      "source": "matrix_diag 也是一種方法"
    },
    {
      "metadata": {
        "trusted": true,
        "_uuid": "b74229a4dbea0f82d6dfbe626eb7269bcfff1894"
      },
      "cell_type": "code",
      "source": "x=tf.range(1,9)\nx=tf.reshape(x,[2,4])\nprint(x.eval())\nprint(tf.matrix_diag(x).eval())",
      "execution_count": 76,
      "outputs": [
        {
          "output_type": "stream",
          "text": "[[1 2 3 4]\n [5 6 7 8]]\n[[[1 0 0 0]\n  [0 2 0 0]\n  [0 0 3 0]\n  [0 0 0 4]]\n\n [[5 0 0 0]\n  [0 6 0 0]\n  [0 0 7 0]\n  [0 0 0 8]]]\n",
          "name": "stdout"
        }
      ]
    },
    {
      "metadata": {
        "_uuid": "56f353b53eda529511e4a47d9c8d51dd2f8bd3b7"
      },
      "cell_type": "markdown",
      "source": "為了驗證正確性 我用2x2 "
    },
    {
      "metadata": {
        "trusted": true,
        "_uuid": "beae39129e09fbd4a225beb41d370332aad7df5a"
      },
      "cell_type": "code",
      "source": "###############################################################################\n# 1f: Create a random 2-d tensor of size 10 x 10 from any distribution.\n# Calculate its determinant.\n# Hint: Look at tf.matrix_determinant().\n###############################################################################\nx = tf.random_normal([2,2])\nprint(x.eval())\nprint(tf.matrix_determinant(x).eval())\ny = tf.constant([[2.,3.],[1.,2.]])\nprint(y.eval())\nprint(tf.matrix_determinant(y).eval())",
      "execution_count": 87,
      "outputs": [
        {
          "output_type": "stream",
          "text": "[[-0.7758407  -0.25497925]\n [ 0.7823821  -0.5999962 ]]\n-0.591647\n[[2. 3.]\n [1. 2.]]\n1.0\n",
          "name": "stdout"
        }
      ]
    },
    {
      "metadata": {
        "_uuid": "1fcc25e2cccd27c62421d3d7dd2c9cdb49648c53"
      },
      "cell_type": "markdown",
      "source": "試了好幾遍 output都是錯誤的 看來實際跑的x和上面的x不同啊   正+正不可能<0阿"
    },
    {
      "metadata": {
        "trusted": true,
        "_uuid": "ef7d9ce6cdf9fb2e514fd44069f93edf758dbc1f"
      },
      "cell_type": "code",
      "source": "###############################################################################\n# 1g: Create tensor x with value [5, 2, 3, 5, 10, 6, 2, 3, 4, 2, 1, 1, 0, 9].\n# Return the unique elements in x\n# Hint: use tf.unique(). Keep in mind that tf.unique() returns a tuple.\n###############################################################################\nx = tf.constant([5, 2, 3, 5, 10, 6, 2, 3, 4, 2, 1, 1, 0, 9])\ny , idx = tf.unique(x)\nprint(y.eval())\nprint(idx.eval())",
      "execution_count": 93,
      "outputs": [
        {
          "output_type": "stream",
          "text": "[ 5  2  3 10  6  4  1  0  9]\n[0 1 2 0 3 4 1 2 5 1 6 6 7 8]\n",
          "name": "stdout"
        }
      ]
    },
    {
      "metadata": {
        "trusted": true,
        "_uuid": "8f7379b7ccf11f937d8247657c334100e340bfdc"
      },
      "cell_type": "code",
      "source": "###############################################################################\n# 1h: Create two tensors x and y of shape 300 from any normal distribution,\n# as long as they are from the same distribution.\n# Use tf.cond() to return:\n# - The mean squared error of (x - y) if the average of all elements in (x - y)\n#   is negative, or\n# - The sum of absolute value of all elements in the tensor (x - y) otherwise.\n# Hint: see the Huber loss function in the lecture slides 3.\n###############################################################################\nx = tf.random_normal([300])\ny = tf.random_normal([300])\ndef f1(): return tf.reduce_mean(tf.square(x-y))\ndef f2(): return tf.reduce_sum(tf.abs(x-y))\nprint(tf.cond(tf.reduce_mean(x-y) < 0,f1,f2).eval())",
      "execution_count": 100,
      "outputs": [
        {
          "output_type": "stream",
          "text": "1.9814825\n",
          "name": "stdout"
        }
      ]
    },
    {
      "metadata": {
        "trusted": true,
        "_uuid": "3503f10b6c1386b5487d930dc9e963f526814d00"
      },
      "cell_type": "code",
      "source": "def huber_loss(labels, predictions, delta=14.0):\n    residual = tf.abs(labels - predictions)\n    def f1(): return 0.5 * tf.square(residual)\n    def f2(): return delta * residual - 0.5 * tf.square(delta)\n    return tf.cond(residual < delta, f1, f2)\n",
      "execution_count": 101,
      "outputs": []
    }
  ],
  "metadata": {
    "kernelspec": {
      "display_name": "Python 3",
      "language": "python",
      "name": "python3"
    },
    "language_info": {
      "name": "python",
      "version": "3.6.6",
      "mimetype": "text/x-python",
      "codemirror_mode": {
        "name": "ipython",
        "version": 3
      },
      "pygments_lexer": "ipython3",
      "nbconvert_exporter": "python",
      "file_extension": ".py"
    }
  },
  "nbformat": 4,
  "nbformat_minor": 1
}