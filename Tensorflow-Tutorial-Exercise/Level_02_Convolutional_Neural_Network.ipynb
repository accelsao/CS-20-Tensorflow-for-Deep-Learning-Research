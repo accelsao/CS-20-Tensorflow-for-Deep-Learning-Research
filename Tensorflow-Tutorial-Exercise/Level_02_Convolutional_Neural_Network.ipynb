{
 "cells": [
  {
   "cell_type": "code",
   "execution_count": 104,
   "metadata": {},
   "outputs": [],
   "source": [
    "import tensorflow as tf\n",
    "import matplotlib.pyplot as plt\n",
    "%matplotlib inline\n",
    "from datetime import timedelta\n",
    "from sklearn.metrics import confusion_matrix"
   ]
  },
  {
   "cell_type": "code",
   "execution_count": 105,
   "metadata": {},
   "outputs": [],
   "source": [
    "filter_size_1 = 5\n",
    "num_filters_1 = 16\n",
    "\n",
    "filter_size_2 = 5\n",
    "num_filters_2 = 36\n",
    "\n",
    "fc_size=128"
   ]
  },
  {
   "cell_type": "code",
   "execution_count": 106,
   "metadata": {},
   "outputs": [],
   "source": [
    "from mnist import MNIST\n",
    "data = MNIST(data_dir='data/MNIST/')"
   ]
  },
  {
   "cell_type": "code",
   "execution_count": 107,
   "metadata": {},
   "outputs": [
    {
     "name": "stdout",
     "output_type": "stream",
     "text": [
      "Size of:\n",
      "- Training-set:\t\t55000\n",
      "- Validation-set:\t5000\n",
      "- Test-set:\t\t10000\n"
     ]
    }
   ],
   "source": [
    "print(\"Size of:\")\n",
    "print(\"- Training-set:\\t\\t{}\".format(data.num_train))\n",
    "print(\"- Validation-set:\\t{}\".format(data.num_val))\n",
    "print(\"- Test-set:\\t\\t{}\".format(data.num_test))"
   ]
  },
  {
   "cell_type": "code",
   "execution_count": 108,
   "metadata": {},
   "outputs": [
    {
     "name": "stdout",
     "output_type": "stream",
     "text": [
      "28\n",
      "1\n"
     ]
    }
   ],
   "source": [
    "img_size = data.img_size\n",
    "img_size_flat = data.img_size_flat\n",
    "img_shape = data.img_shape\n",
    "num_classes = data.num_classes\n",
    "num_channels = data.num_channels\n",
    "print(img_size)\n",
    "print(num_channels)"
   ]
  },
  {
   "cell_type": "code",
   "execution_count": 109,
   "metadata": {},
   "outputs": [],
   "source": [
    "def plot_images(images, cls_true, cls_pred=None):\n",
    "    assert len(images) == len(cls_true) == 9\n",
    "    \n",
    "    # Create figure with 3x3 sub-plots.\n",
    "    fig, axes = plt.subplots(3, 3)\n",
    "    fig.subplots_adjust(hspace=0.3, wspace=0.3)\n",
    "\n",
    "    for i, ax in enumerate(axes.flat):\n",
    "        # Plot image.\n",
    "        ax.imshow(images[i].reshape(img_shape), cmap='binary')\n",
    "\n",
    "        # Show true and predicted classes.\n",
    "        if cls_pred is None:\n",
    "            xlabel = \"True: {0}\".format(cls_true[i])\n",
    "        else:\n",
    "            xlabel = \"True: {0}, Pred: {1}\".format(cls_true[i], cls_pred[i])\n",
    "\n",
    "        # Show the classes as the label on the x-axis.\n",
    "        ax.set_xlabel(xlabel)\n",
    "        \n",
    "        # Remove ticks from the plot.\n",
    "        ax.set_xticks([])\n",
    "        ax.set_yticks([])\n",
    "    \n",
    "    # Ensure the plot is shown correctly with multiple plots\n",
    "    # in a single Notebook cell.\n",
    "    plt.show()"
   ]
  },
  {
   "cell_type": "code",
   "execution_count": 110,
   "metadata": {},
   "outputs": [
    {
     "data": {
      "image/png": "[encoded data removed]",
      "text/plain": [
       "<Figure size 432x288 with 9 Axes>"
      ]
     },
     "metadata": {},
     "output_type": "display_data"
    }
   ],
   "source": [
    "# Get the first images from the test-set.\n",
    "images = data.x_test[0:9]\n",
    "\n",
    "# Get the true classes for those images.\n",
    "cls_true = data.y_test_cls[0:9]\n",
    "\n",
    "# Plot the images and labels using our helper-function above.\n",
    "plot_images(images=images, cls_true=cls_true)"
   ]
  },
  {
   "cell_type": "code",
   "execution_count": 111,
   "metadata": {},
   "outputs": [],
   "source": [
    "def new_weights(shape):\n",
    "    return tf.Variable(tf.truncated_normal(shape,stddev=0.05))"
   ]
  },
  {
   "cell_type": "code",
   "execution_count": 112,
   "metadata": {},
   "outputs": [],
   "source": [
    "def new_biases(length):\n",
    "    return tf.Variable(tf.constant(0.05,shape=[length]))"
   ]
  },
  {
   "cell_type": "code",
   "execution_count": 113,
   "metadata": {},
   "outputs": [],
   "source": [
    "def new_conv(input,\n",
    "             num_input_channels,# prev layer\n",
    "             filter_size,\n",
    "             num_filters, # cur layer\n",
    "             use_pooling = True):\n",
    "    shape = [filter_size,filter_size,num_input_channels,num_filters]\n",
    "    weights = new_weights(shape=shape)\n",
    "    bias = new_biases(length=num_filters)\n",
    "    \n",
    "    layer = tf.nn.conv2d(input = input,\n",
    "                     filter = weights,\n",
    "                     strides = [1,1,1,1],\n",
    "                     padding='SAME')\n",
    "    \n",
    "    layer+=bias\n",
    "    \n",
    "    if use_pooling:\n",
    "        layer = tf.nn.max_pool(value = layer,\n",
    "                               ksize = [1,2,2,1],\n",
    "                               strides = [1,2,2,1],\n",
    "                               padding='SAME')\n",
    "        \n",
    "    layer = tf.nn.relu(layer)\n",
    "    return layer , weights"
   ]
  },
  {
   "cell_type": "code",
   "execution_count": 114,
   "metadata": {},
   "outputs": [],
   "source": [
    "def flatten_layer(layer):\n",
    "    layer_shape = layer.get_shape()\n",
    "    num_features = layer_shape[1:4].num_elements()\n",
    "    layer_flat = tf.reshape(layer,[-1,num_features])\n",
    "    return layer_flat,num_features"
   ]
  },
  {
   "cell_type": "code",
   "execution_count": 115,
   "metadata": {},
   "outputs": [],
   "source": [
    "def new_fc_layer(input,\n",
    "                 num_inputs,\n",
    "                 num_outputs,\n",
    "                 use_relu=True):\n",
    "    weights = new_weights(shape=[num_inputs, num_outputs])\n",
    "    bias = new_biases(length=num_outputs)\n",
    "    layer = tf.matmul(input,weights)+bias\n",
    "    if use_relu:\n",
    "        return tf.nn.relu(layer)\n",
    "    return layer\n",
    "    "
   ]
  },
  {
   "cell_type": "code",
   "execution_count": 116,
   "metadata": {},
   "outputs": [],
   "source": [
    "x = tf.placeholder(tf.float32,shape = [None,img_size_flat],name='x')\n",
    "x_image = tf.reshape(x,[-1,img_size,img_size,num_channels])"
   ]
  },
  {
   "cell_type": "code",
   "execution_count": 117,
   "metadata": {},
   "outputs": [],
   "source": [
    "y_true = tf.placeholder(tf.float32,shape=[None,num_classes],name='y_true')"
   ]
  },
  {
   "cell_type": "code",
   "execution_count": 118,
   "metadata": {},
   "outputs": [],
   "source": [
    "y_true_cls = tf.argmax(y_true,axis=1)"
   ]
  },
  {
   "cell_type": "code",
   "execution_count": 119,
   "metadata": {},
   "outputs": [],
   "source": [
    "layer_conv1 , weights_conv1 = new_conv(input = x_image,\n",
    "                                      num_input_channels = num_channels,\n",
    "                                      filter_size = filter_size_1,\n",
    "                                      num_filters = num_filters_1)"
   ]
  },
  {
   "cell_type": "code",
   "execution_count": 120,
   "metadata": {},
   "outputs": [
    {
     "data": {
      "text/plain": [
       "<tf.Tensor 'Relu_6:0' shape=(?, 14, 14, 16) dtype=float32>"
      ]
     },
     "execution_count": 120,
     "metadata": {},
     "output_type": "execute_result"
    }
   ],
   "source": [
    "layer_conv1"
   ]
  },
  {
   "cell_type": "code",
   "execution_count": 121,
   "metadata": {},
   "outputs": [],
   "source": [
    "layer_conv2 , weights_conv2 = new_conv(input = layer_conv1,\n",
    "                                      num_input_channels = num_filters_1,\n",
    "                                      filter_size = filter_size_2,\n",
    "                                      num_filters = num_filters_2)"
   ]
  },
  {
   "cell_type": "code",
   "execution_count": 122,
   "metadata": {},
   "outputs": [
    {
     "data": {
      "text/plain": [
       "<tf.Tensor 'Relu_7:0' shape=(?, 7, 7, 36) dtype=float32>"
      ]
     },
     "execution_count": 122,
     "metadata": {},
     "output_type": "execute_result"
    }
   ],
   "source": [
    "layer_conv2"
   ]
  },
  {
   "cell_type": "code",
   "execution_count": 123,
   "metadata": {},
   "outputs": [],
   "source": [
    "layer_flat,num_features = flatten_layer(layer_conv2)"
   ]
  },
  {
   "cell_type": "code",
   "execution_count": 124,
   "metadata": {},
   "outputs": [
    {
     "data": {
      "text/plain": [
       "<tf.Tensor 'Reshape_5:0' shape=(?, 1764) dtype=float32>"
      ]
     },
     "execution_count": 124,
     "metadata": {},
     "output_type": "execute_result"
    }
   ],
   "source": [
    "layer_flat"
   ]
  },
  {
   "cell_type": "code",
   "execution_count": 125,
   "metadata": {},
   "outputs": [
    {
     "data": {
      "text/plain": [
       "1764"
      ]
     },
     "execution_count": 125,
     "metadata": {},
     "output_type": "execute_result"
    }
   ],
   "source": [
    "num_features"
   ]
  },
  {
   "cell_type": "code",
   "execution_count": 126,
   "metadata": {},
   "outputs": [],
   "source": [
    "layer_fc1=new_fc_layer(input=layer_flat,\n",
    "                       num_inputs=num_features,\n",
    "                       num_outputs=fc_size)"
   ]
  },
  {
   "cell_type": "code",
   "execution_count": 127,
   "metadata": {},
   "outputs": [
    {
     "data": {
      "text/plain": [
       "<tf.Tensor 'Relu_8:0' shape=(?, 128) dtype=float32>"
      ]
     },
     "execution_count": 127,
     "metadata": {},
     "output_type": "execute_result"
    }
   ],
   "source": [
    "layer_fc1"
   ]
  },
  {
   "cell_type": "code",
   "execution_count": 128,
   "metadata": {
    "scrolled": true
   },
   "outputs": [],
   "source": [
    "layer_fc2=new_fc_layer(input=layer_fc1,\n",
    "                      num_inputs=fc_size,\n",
    "                      num_outputs=num_classes,\n",
    "                      use_relu=False)"
   ]
  },
  {
   "cell_type": "code",
   "execution_count": 129,
   "metadata": {},
   "outputs": [
    {
     "data": {
      "text/plain": [
       "<tf.Tensor 'add_11:0' shape=(?, 10) dtype=float32>"
      ]
     },
     "execution_count": 129,
     "metadata": {},
     "output_type": "execute_result"
    }
   ],
   "source": [
    "layer_fc2"
   ]
  },
  {
   "cell_type": "code",
   "execution_count": 130,
   "metadata": {},
   "outputs": [],
   "source": [
    "y_pred=tf.nn.softmax(layer_fc2)"
   ]
  },
  {
   "cell_type": "code",
   "execution_count": 131,
   "metadata": {},
   "outputs": [],
   "source": [
    "y_pred_cls=tf.argmax(y_pred,axis=1)"
   ]
  },
  {
   "cell_type": "code",
   "execution_count": 132,
   "metadata": {},
   "outputs": [],
   "source": [
    "cross_entropy=tf.nn.softmax_cross_entropy_with_logits_v2(logits=layer_fc2,\n",
    "                                                     labels=y_true)"
   ]
  },
  {
   "cell_type": "markdown",
   "metadata": {},
   "source": [
    "we need scalar so we get the mean of entropy"
   ]
  },
  {
   "cell_type": "code",
   "execution_count": 133,
   "metadata": {},
   "outputs": [],
   "source": [
    "cost=tf.reduce_mean(cross_entropy)"
   ]
  },
  {
   "cell_type": "code",
   "execution_count": 134,
   "metadata": {},
   "outputs": [],
   "source": [
    "optimizer=tf.train.AdamOptimizer(learning_rate=1e-4).minimize(cost)"
   ]
  },
  {
   "cell_type": "code",
   "execution_count": 135,
   "metadata": {},
   "outputs": [],
   "source": [
    "correct_prediction=tf.equal(y_true_cls,y_pred_cls)"
   ]
  },
  {
   "cell_type": "code",
   "execution_count": 136,
   "metadata": {},
   "outputs": [],
   "source": [
    "accuracy=tf.reduce_mean(tf.cast(correct_prediction,tf.float32))"
   ]
  },
  {
   "cell_type": "code",
   "execution_count": 137,
   "metadata": {},
   "outputs": [],
   "source": [
    "session=tf.Session()\n",
    "session.run(tf.global_variables_initializer())"
   ]
  },
  {
   "cell_type": "code",
   "execution_count": 138,
   "metadata": {},
   "outputs": [],
   "source": [
    "train_batch_size=84"
   ]
  },
  {
   "cell_type": "code",
   "execution_count": 139,
   "metadata": {},
   "outputs": [],
   "source": [
    "import time\n",
    "total_iter = 0\n",
    "\n",
    "def optimize(num_iter,optimizer):\n",
    "    global total_iter\n",
    "    start=time.time()\n",
    "    for i in range(total_iter,total_iter+num_iter):\n",
    "        x_batch,y_true_batch,_= data.random_batch(batch_size=train_batch_size)\n",
    "        feed_dict_train={x:x_batch,\n",
    "                        y_true:y_true_batch}\n",
    "        session.run(optimizer,feed_dict=feed_dict_train)\n",
    "        if i%100==0:\n",
    "            acc=session.run(accuracy,feed_dict=feed_dict_train)\n",
    "            msg = \"Optimization Iteration: {0:>6}, Training Accuracy: {1:>6.1%}\"\n",
    "            print(msg.format(i + 1, acc))\n",
    "    total_iter+=num_iter\n",
    "    end=time.time()\n",
    "    # Difference between start and end-times.\n",
    "    time_dif = end-start\n",
    "\n",
    "    # Print the time-usage.\n",
    "    print(\"Time usage: \" + str(timedelta(seconds=int(round(time_dif)))))"
   ]
  },
  {
   "cell_type": "code",
   "execution_count": 140,
   "metadata": {},
   "outputs": [],
   "source": [
    "def plot_example_errors(cls_pred, correct):\n",
    "    incorrect=(correct==False)\n",
    "    images = data.x_test[incorrect]\n",
    "    cls_pred=cls_pred[incorrect]\n",
    "    cls_true=data.y_test_cls[incorrect]\n",
    "    plot_images(images=images[:9],\n",
    "               cls_true=cls_true[:9],\n",
    "               cls_pred=cls_pred[:9])\n",
    "    "
   ]
  },
  {
   "cell_type": "code",
   "execution_count": 141,
   "metadata": {},
   "outputs": [],
   "source": [
    "def plot_confusion_matrix(cls_pred):\n",
    "    cls_true=data.y_test_cls\n",
    "    cm = confusion_matrix(y_true=cls_true,\n",
    "                         y_pred=cls_pred)\n",
    "    plt.matshow(cm)\n",
    "    plt.colorbar()\n",
    "    tick_marks = np.arange(num_classes)\n",
    "    plt.xticks(tick_marks, range(num_classes))\n",
    "    plt.yticks(tick_marks, range(num_classes))\n",
    "    plt.xlabel('Predicted')\n",
    "    plt.ylabel('True')\n",
    "    "
   ]
  },
  {
   "cell_type": "code",
   "execution_count": 142,
   "metadata": {},
   "outputs": [],
   "source": [
    "import numpy as np\n",
    "test_batch_size = 256\n",
    "\n",
    "def print_acc(show_example_error=False,\n",
    "              show_cm=False):\n",
    "    num_test=data.num_test\n",
    "    cls_pred=np.zeros(shape=num_test,dtype=np.int)\n",
    "    i=0\n",
    "    while i<num_test:\n",
    "        j=min(i+test_batch_size,num_test)\n",
    "        images=data.x_test[i:j,:]\n",
    "        labels=data.y_test[i:j,:]\n",
    "        feed_dict={\n",
    "            x:images,\n",
    "            y_true:labels\n",
    "        }\n",
    "        cls_pred[i:j]=session.run(y_pred_cls,feed_dict=feed_dict)\n",
    "        i=j\n",
    "    cls_true=data.y_test_cls\n",
    "    correct = (cls_true==cls_pred)\n",
    "    correct_sum = correct.sum()\n",
    "    acc = correct_sum / num_test\n",
    "    msg = \"Accuracy on Test-Set: {0:.1%} ({1} / {2})\"\n",
    "    print(msg.format(acc, correct_sum, num_test))\n",
    "\n",
    "    # Plot some examples of mis-classifications, if desired.\n",
    "    if show_example_error:\n",
    "        print(\"Example errors:\")\n",
    "        plot_example_errors(cls_pred=cls_pred, correct=correct)\n",
    "\n",
    "    # Plot the confusion matrix, if desired.\n",
    "    if show_cm:\n",
    "        print(\"Confusion Matrix:\")\n",
    "        plot_confusion_matrix(cls_pred=cls_pred)"
   ]
  },
  {
   "cell_type": "code",
   "execution_count": 143,
   "metadata": {},
   "outputs": [
    {
     "name": "stdout",
     "output_type": "stream",
     "text": [
      "Accuracy on Test-Set: 11.8% (1177 / 10000)\n"
     ]
    }
   ],
   "source": [
    "print_acc()"
   ]
  },
  {
   "cell_type": "code",
   "execution_count": 144,
   "metadata": {},
   "outputs": [
    {
     "name": "stdout",
     "output_type": "stream",
     "text": [
      "Optimization Iteration:      1, Training Accuracy:  14.3%\n",
      "Time usage: 0:00:00\n",
      "Accuracy on Test-Set: 11.8% (1176 / 10000)\n"
     ]
    }
   ],
   "source": [
    "optimize(num_iter=1,optimizer=optimizer)\n",
    "print_acc()"
   ]
  },
  {
   "cell_type": "code",
   "execution_count": 145,
   "metadata": {},
   "outputs": [
    {
     "name": "stdout",
     "output_type": "stream",
     "text": [
      "Time usage: 0:00:13\n",
      "Accuracy on Test-Set: 64.6% (6457 / 10000)\n"
     ]
    }
   ],
   "source": [
    "optimize(num_iter=99,optimizer=optimizer)\n",
    "print_acc()"
   ]
  },
  {
   "cell_type": "code",
   "execution_count": 146,
   "metadata": {},
   "outputs": [
    {
     "name": "stdout",
     "output_type": "stream",
     "text": [
      "Optimization Iteration:    101, Training Accuracy:  59.5%\n",
      "Optimization Iteration:    201, Training Accuracy:  77.4%\n",
      "Optimization Iteration:    301, Training Accuracy:  88.1%\n",
      "Optimization Iteration:    401, Training Accuracy:  86.9%\n",
      "Optimization Iteration:    501, Training Accuracy:  90.5%\n",
      "Optimization Iteration:    601, Training Accuracy:  92.9%\n",
      "Optimization Iteration:    701, Training Accuracy:  89.3%\n",
      "Optimization Iteration:    801, Training Accuracy:  91.7%\n",
      "Optimization Iteration:    901, Training Accuracy:  91.7%\n",
      "Time usage: 0:01:41\n",
      "Accuracy on Test-Set: 93.5% (9349 / 10000)\n"
     ]
    }
   ],
   "source": [
    "optimize(num_iter=900,optimizer=optimizer) # total 1000\n",
    "print_acc()"
   ]
  },
  {
   "cell_type": "code",
   "execution_count": 149,
   "metadata": {},
   "outputs": [
    {
     "name": "stdout",
     "output_type": "stream",
     "text": [
      "Accuracy on Test-Set: 93.5% (9349 / 10000)\n",
      "Example errors:\n"
     ]
    },
    {
     "data": {
      "image/png": "[encoded data removed]",
      "text/plain": [
       "<Figure size 432x288 with 9 Axes>"
      ]
     },
     "metadata": {},
     "output_type": "display_data"
    },
    {
     "name": "stdout",
     "output_type": "stream",
     "text": [
      "Confusion Matrix:\n"
     ]
    },
    {
     "data": {
      "image/png": "[encoded data removed]",
      "text/plain": [
       "<Figure size 288x288 with 2 Axes>"
      ]
     },
     "metadata": {
      "needs_background": "light"
     },
     "output_type": "display_data"
    }
   ],
   "source": [
    "print_acc(show_example_error=True,\n",
    "          show_cm=True)"
   ]
  },
  {
   "cell_type": "markdown",
   "metadata": {},
   "source": [
    "Change Learning rate"
   ]
  },
  {
   "cell_type": "code",
   "execution_count": 153,
   "metadata": {},
   "outputs": [
    {
     "name": "stdout",
     "output_type": "stream",
     "text": [
      "Optimization Iteration:   2001, Training Accuracy:  15.5%\n",
      "Optimization Iteration:   2101, Training Accuracy:  72.6%\n",
      "Time usage: 0:00:22\n",
      "Learning rate is 0.0001\n",
      "Accuracy on Test-Set: 84.6% (8461 / 10000)\n",
      "Optimization Iteration:   2201, Training Accuracy:  23.8%\n",
      "Optimization Iteration:   2301, Training Accuracy:  94.0%\n",
      "Time usage: 0:00:22\n",
      "Learning rate is 0.001\n",
      "Accuracy on Test-Set: 95.0% (9497 / 10000)\n",
      "Optimization Iteration:   2401, Training Accuracy:  11.9%\n",
      "Optimization Iteration:   2501, Training Accuracy:  10.7%\n",
      "Time usage: 0:00:22\n",
      "Learning rate is 0.01\n",
      "Accuracy on Test-Set: 11.3% (1135 / 10000)\n",
      "Optimization Iteration:   2601, Training Accuracy:  10.7%\n",
      "Optimization Iteration:   2701, Training Accuracy:   8.3%\n",
      "Time usage: 0:00:23\n",
      "Learning rate is 0.1\n",
      "Accuracy on Test-Set: 11.3% (1135 / 10000)\n",
      "Optimization Iteration:   2801, Training Accuracy:  14.3%\n",
      "Optimization Iteration:   2901, Training Accuracy:  14.3%\n",
      "Time usage: 0:00:23\n",
      "Learning rate is 0.9\n",
      "Accuracy on Test-Set: 10.3% (1032 / 10000)\n",
      "Optimization Iteration:   3001, Training Accuracy:  16.7%\n",
      "Optimization Iteration:   3101, Training Accuracy:  13.1%\n",
      "Time usage: 0:00:27\n",
      "Learning rate is 0.99\n",
      "Accuracy on Test-Set: 10.3% (1028 / 10000)\n"
     ]
    }
   ],
   "source": [
    "for lr in [1e-4,0.001,0.01,0.1,0.9,0.99]:\n",
    "    optimizer=tf.train.AdamOptimizer(learning_rate=lr).minimize(cost)\n",
    "    session.run(tf.global_variables_initializer())\n",
    "    optimize(num_iter=200,optimizer=optimizer)\n",
    "    print(\"Learning rate is {}\".format(lr))\n",
    "    print_acc()"
   ]
  },
  {
   "cell_type": "markdown",
   "metadata": {},
   "source": [
    "Change configurations"
   ]
  },
  {
   "cell_type": "code",
   "execution_count": 163,
   "metadata": {},
   "outputs": [
    {
     "name": "stdout",
     "output_type": "stream",
     "text": [
      "Optimization Iteration:   4001, Training Accuracy:  11.9%\n",
      "Optimization Iteration:   4101, Training Accuracy:  63.1%\n",
      "Time usage: 0:00:25\n",
      "Accuracy on Test-Set: 82.4% (8236 / 10000)\n",
      "Optimization Iteration:   4201, Training Accuracy:  11.9%\n",
      "Optimization Iteration:   4301, Training Accuracy:  76.2%\n",
      "Time usage: 0:00:25\n",
      "Accuracy on Test-Set: 86.9% (8692 / 10000)\n"
     ]
    }
   ],
   "source": [
    "filter_size_1 = 5\n",
    "num_filters_1 = 16\n",
    "filter_size_2 = 5\n",
    "num_filters_2 = 36\n",
    "fc_size=128\n",
    "layer_conv1 , weights_conv1 = new_conv(input = x_image,\n",
    "                                      num_input_channels = num_channels,\n",
    "                                      filter_size = filter_size_1,\n",
    "                                      num_filters = num_filters_1)\n",
    "layer_conv2 , weights_conv2 = new_conv(input = layer_conv1,\n",
    "                                      num_input_channels = num_filters_1,\n",
    "                                      filter_size = filter_size_2,\n",
    "                                      num_filters = num_filters_2)\n",
    "layer_flat,num_features = flatten_layer(layer_conv2)\n",
    "layer_fc1=new_fc_layer(input=layer_flat,\n",
    "                       num_inputs=num_features,\n",
    "                       num_outputs=fc_size)\n",
    "layer_fc2=new_fc_layer(input=layer_fc1,\n",
    "                      num_inputs=fc_size,\n",
    "                      num_outputs=num_classes,\n",
    "                      use_relu=False)\n",
    "y_pred=tf.nn.softmax(layer_fc2)\n",
    "y_pred_cls=tf.argmax(y_pred,axis=1)\n",
    "cross_entropy=tf.nn.softmax_cross_entropy_with_logits_v2(logits=layer_fc2,\n",
    "                                                     labels=y_true)\n",
    "cost=tf.reduce_mean(cross_entropy)\n",
    "optimizer=tf.train.AdamOptimizer(learning_rate=1e-4).minimize(cost)\n",
    "correct_prediction=tf.equal(y_true_cls,y_pred_cls)\n",
    "accuracy=tf.reduce_mean(tf.cast(correct_prediction,tf.float32))\n",
    "session.run(tf.global_variables_initializer())\n",
    "optimize(num_iter=200,optimizer=optimizer)\n",
    "print_acc()\n",
    "\n",
    "filter_size_1 = 5\n",
    "num_filters_1 = 16\n",
    "filter_size_2 = 5\n",
    "num_filters_2 = 36\n",
    "fc_size=256\n",
    "layer_conv1 , weights_conv1 = new_conv(input = x_image,\n",
    "                                      num_input_channels = num_channels,\n",
    "                                      filter_size = filter_size_1,\n",
    "                                      num_filters = num_filters_1)\n",
    "layer_conv2 , weights_conv2 = new_conv(input = layer_conv1,\n",
    "                                      num_input_channels = num_filters_1,\n",
    "                                      filter_size = filter_size_2,\n",
    "                                      num_filters = num_filters_2)\n",
    "layer_flat,num_features = flatten_layer(layer_conv2)\n",
    "layer_fc1=new_fc_layer(input=layer_flat,\n",
    "                       num_inputs=num_features,\n",
    "                       num_outputs=fc_size)\n",
    "layer_fc2=new_fc_layer(input=layer_fc1,\n",
    "                      num_inputs=fc_size,\n",
    "                      num_outputs=num_classes,\n",
    "                      use_relu=False)\n",
    "y_pred=tf.nn.softmax(layer_fc2)\n",
    "y_pred_cls=tf.argmax(y_pred,axis=1)\n",
    "cross_entropy=tf.nn.softmax_cross_entropy_with_logits_v2(logits=layer_fc2,\n",
    "                                                     labels=y_true)\n",
    "cost=tf.reduce_mean(cross_entropy)\n",
    "optimizer=tf.train.AdamOptimizer(learning_rate=1e-4).minimize(cost)\n",
    "correct_prediction=tf.equal(y_true_cls,y_pred_cls)\n",
    "accuracy=tf.reduce_mean(tf.cast(correct_prediction,tf.float32))\n",
    "session.run(tf.global_variables_initializer())\n",
    "optimize(num_iter=200,optimizer=optimizer)\n",
    "print_acc()"
   ]
  },
  {
   "cell_type": "markdown",
   "metadata": {},
   "source": [
    "```\n",
    "Test Resut:\n",
    "    filter_size 3<5\n",
    "    num_filters 32,64 > 16,36\n",
    "    fc_size 128<256\n",
    "```"
   ]
  },
  {
   "cell_type": "code",
   "execution_count": 167,
   "metadata": {},
   "outputs": [
    {
     "name": "stdout",
     "output_type": "stream",
     "text": [
      "Optimization Iteration:   5201, Training Accuracy:   7.1%\n",
      "Optimization Iteration:   5301, Training Accuracy:  69.0%\n",
      "Time usage: 0:00:33\n",
      "Accuracy on Test-Set: 82.2% (8225 / 10000)\n",
      "Optimization Iteration:   5401, Training Accuracy:   9.5%\n",
      "Optimization Iteration:   5501, Training Accuracy:  70.2%\n",
      "Time usage: 0:00:23\n",
      "Accuracy on Test-Set: 83.6% (8361 / 10000)\n"
     ]
    }
   ],
   "source": [
    "filter_size_1 = 5\n",
    "num_filters_1 = 16\n",
    "filter_size_2 = 5\n",
    "num_filters_2 = 36\n",
    "fc_size=128\n",
    "layer_conv1 , weights_conv1 = new_conv(input = x_image,\n",
    "                                      num_input_channels = num_channels,\n",
    "                                      filter_size = filter_size_1,\n",
    "                                      num_filters = num_filters_1)\n",
    "layer_conv2 , weights_conv2 = new_conv(input = layer_conv1,\n",
    "                                      num_input_channels = num_filters_1,\n",
    "                                      filter_size = filter_size_2,\n",
    "                                      num_filters = num_filters_2)\n",
    "layer_conv2 , weights_conv2 = new_conv(input = layer_conv2,\n",
    "                                      num_input_channels = num_filters_2,\n",
    "                                      filter_size = 5,\n",
    "                                      num_filters = 56)\n",
    "layer_flat,num_features = flatten_layer(layer_conv2)\n",
    "layer_fc1=new_fc_layer(input=layer_flat,\n",
    "                       num_inputs=num_features,\n",
    "                       num_outputs=fc_size)\n",
    "layer_fc1=tf.layers.dropout(layer_fc1,0.25)\n",
    "layer_fc2=new_fc_layer(input=layer_fc1,\n",
    "                      num_inputs=fc_size,\n",
    "                      num_outputs=num_classes,\n",
    "                      use_relu=False)\n",
    "\n",
    "layer_fc2=tf.layers.dropout(layer_fc2,0.5)\n",
    "\n",
    "y_pred=tf.nn.softmax(layer_fc2)\n",
    "y_pred_cls=tf.argmax(y_pred,axis=1)\n",
    "cross_entropy=tf.nn.softmax_cross_entropy_with_logits_v2(logits=layer_fc2,\n",
    "                                                     labels=y_true)\n",
    "cost=tf.reduce_mean(cross_entropy)\n",
    "optimizer=tf.train.AdamOptimizer(learning_rate=1e-4).minimize(cost)\n",
    "correct_prediction=tf.equal(y_true_cls,y_pred_cls)\n",
    "accuracy=tf.reduce_mean(tf.cast(correct_prediction,tf.float32))\n",
    "session.run(tf.global_variables_initializer())\n",
    "optimize(num_iter=200,optimizer=optimizer)\n",
    "print_acc()\n",
    "\n",
    "\n",
    "filter_size_1 = 5\n",
    "num_filters_1 = 16\n",
    "filter_size_2 = 5\n",
    "num_filters_2 = 36\n",
    "fc_size=128\n",
    "layer_conv1 , weights_conv1 = new_conv(input = x_image,\n",
    "                                      num_input_channels = num_channels,\n",
    "                                      filter_size = filter_size_1,\n",
    "                                      num_filters = num_filters_1)\n",
    "layer_conv2 , weights_conv2 = new_conv(input = layer_conv1,\n",
    "                                      num_input_channels = num_filters_1,\n",
    "                                      filter_size = filter_size_2,\n",
    "                                      num_filters = num_filters_2)\n",
    "layer_flat,num_features = flatten_layer(layer_conv2)\n",
    "layer_fc1=new_fc_layer(input=layer_flat,\n",
    "                       num_inputs=num_features,\n",
    "                       num_outputs=fc_size)\n",
    "layer_fc1=tf.layers.dropout(layer_fc1,0.25)\n",
    "layer_fc2=new_fc_layer(input=layer_fc1,\n",
    "                      num_inputs=fc_size,\n",
    "                      num_outputs=num_classes,\n",
    "                      use_relu=False)\n",
    "\n",
    "layer_fc2=tf.layers.dropout(layer_fc2,0.5)\n",
    "\n",
    "y_pred=tf.nn.softmax(layer_fc2)\n",
    "y_pred_cls=tf.argmax(y_pred,axis=1)\n",
    "cross_entropy=tf.nn.softmax_cross_entropy_with_logits_v2(logits=layer_fc2,\n",
    "                                                     labels=y_true)\n",
    "cost=tf.reduce_mean(cross_entropy)\n",
    "optimizer=tf.train.AdamOptimizer(learning_rate=1e-4).minimize(cost)\n",
    "correct_prediction=tf.equal(y_true_cls,y_pred_cls)\n",
    "accuracy=tf.reduce_mean(tf.cast(correct_prediction,tf.float32))\n",
    "session.run(tf.global_variables_initializer())\n",
    "optimize(num_iter=200,optimizer=optimizer)\n",
    "print_acc()"
   ]
  },
  {
   "cell_type": "code",
   "execution_count": 168,
   "metadata": {},
   "outputs": [
    {
     "name": "stdout",
     "output_type": "stream",
     "text": [
      "Optimization Iteration:   5601, Training Accuracy:  11.9%\n",
      "Optimization Iteration:   5701, Training Accuracy:  58.3%\n",
      "Time usage: 0:00:34\n",
      "Accuracy on Test-Set: 84.1% (8408 / 10000)\n",
      "Optimization Iteration:   5801, Training Accuracy:  14.3%\n",
      "Optimization Iteration:   5901, Training Accuracy:  56.0%\n",
      "Time usage: 0:00:33\n",
      "Accuracy on Test-Set: 70.9% (7091 / 10000)\n"
     ]
    }
   ],
   "source": [
    "filter_size_1 = 5\n",
    "num_filters_1 = 16\n",
    "filter_size_2 = 5\n",
    "num_filters_2 = 36\n",
    "fc_size=128\n",
    "layer_conv1 , weights_conv1 = new_conv(input = x_image,\n",
    "                                      num_input_channels = num_channels,\n",
    "                                      filter_size = filter_size_1,\n",
    "                                      num_filters = num_filters_1)\n",
    "layer_conv2 , weights_conv2 = new_conv(input = layer_conv1,\n",
    "                                      num_input_channels = num_filters_1,\n",
    "                                      filter_size = filter_size_2,\n",
    "                                      num_filters = num_filters_2)\n",
    "layer_conv2 , weights_conv2 = new_conv(input = layer_conv2,\n",
    "                                      num_input_channels = num_filters_2,\n",
    "                                      filter_size = 5,\n",
    "                                      num_filters = 56)\n",
    "layer_flat,num_features = flatten_layer(layer_conv2)\n",
    "layer_fc1=new_fc_layer(input=layer_flat,\n",
    "                       num_inputs=num_features,\n",
    "                       num_outputs=fc_size)\n",
    "layer_fc1=tf.layers.dropout(layer_fc1,0.25)\n",
    "layer_fc2=new_fc_layer(input=layer_fc1,\n",
    "                      num_inputs=fc_size,\n",
    "                      num_outputs=num_classes,\n",
    "                      use_relu=False)\n",
    "\n",
    "layer_fc2=tf.layers.dropout(layer_fc2,0.5)\n",
    "\n",
    "y_pred=tf.nn.softmax(layer_fc2)\n",
    "y_pred_cls=tf.argmax(y_pred,axis=1)\n",
    "cross_entropy=tf.nn.softmax_cross_entropy_with_logits_v2(logits=layer_fc2,\n",
    "                                                     labels=y_true)\n",
    "cost=tf.reduce_mean(cross_entropy)\n",
    "optimizer=tf.train.AdamOptimizer(learning_rate=1e-4).minimize(cost)\n",
    "correct_prediction=tf.equal(y_true_cls,y_pred_cls)\n",
    "accuracy=tf.reduce_mean(tf.cast(correct_prediction,tf.float32))\n",
    "session.run(tf.global_variables_initializer())\n",
    "optimize(num_iter=200,optimizer=optimizer)\n",
    "print_acc()\n",
    "\n",
    "filter_size_1 = 5\n",
    "num_filters_1 = 16\n",
    "filter_size_2 = 5\n",
    "num_filters_2 = 36\n",
    "fc_size=128\n",
    "layer_conv1 , weights_conv1 = new_conv(input = x_image,\n",
    "                                      num_input_channels = num_channels,\n",
    "                                      filter_size = filter_size_1,\n",
    "                                      num_filters = num_filters_1)\n",
    "layer_conv2 , weights_conv2 = new_conv(input = layer_conv1,\n",
    "                                      num_input_channels = num_filters_1,\n",
    "                                      filter_size = filter_size_2,\n",
    "                                      num_filters = num_filters_2)\n",
    "layer_conv2 , weights_conv2 = new_conv(input = layer_conv2,\n",
    "                                      num_input_channels = num_filters_2,\n",
    "                                      filter_size = 5,\n",
    "                                      num_filters = 56)\n",
    "layer_flat,num_features = flatten_layer(layer_conv2)\n",
    "layer_fc1=new_fc_layer(input=layer_flat,\n",
    "                       num_inputs=num_features,\n",
    "                       num_outputs=fc_size)\n",
    "layer_fc1=tf.layers.dropout(layer_fc1,0.25)\n",
    "layer_fc2=new_fc_layer(input=layer_fc1,\n",
    "                      num_inputs=fc_size,\n",
    "                      num_outputs=num_classes,\n",
    "                      use_relu=True)\n",
    "\n",
    "layer_fc2=tf.layers.dropout(layer_fc2,0.5)\n",
    "\n",
    "y_pred=tf.nn.softmax(layer_fc2)\n",
    "y_pred_cls=tf.argmax(y_pred,axis=1)\n",
    "cross_entropy=tf.nn.softmax_cross_entropy_with_logits_v2(logits=layer_fc2,\n",
    "                                                     labels=y_true)\n",
    "cost=tf.reduce_mean(cross_entropy)\n",
    "optimizer=tf.train.AdamOptimizer(learning_rate=1e-4).minimize(cost)\n",
    "correct_prediction=tf.equal(y_true_cls,y_pred_cls)\n",
    "accuracy=tf.reduce_mean(tf.cast(correct_prediction,tf.float32))\n",
    "session.run(tf.global_variables_initializer())\n",
    "optimize(num_iter=200,optimizer=optimizer)\n",
    "print_acc()\n"
   ]
  },
  {
   "cell_type": "code",
   "execution_count": 169,
   "metadata": {},
   "outputs": [
    {
     "name": "stdout",
     "output_type": "stream",
     "text": [
      "Optimization Iteration:   6001, Training Accuracy:  21.4%\n",
      "Optimization Iteration:   6101, Training Accuracy:  81.0%\n",
      "Time usage: 0:01:01\n",
      "Accuracy on Test-Set: 89.2% (8923 / 10000)\n"
     ]
    }
   ],
   "source": [
    "filter_size_1 = 5\n",
    "num_filters_1 = 16\n",
    "filter_size_2 = 5\n",
    "num_filters_2 = 36\n",
    "fc_size=128\n",
    "layer_conv1 , weights_conv1 = new_conv(input = x_image,\n",
    "                                      num_input_channels = num_channels,\n",
    "                                      filter_size = filter_size_1,\n",
    "                                      num_filters = num_filters_1,\n",
    "                                      use_pooling=False)\n",
    "layer_conv2 , weights_conv2 = new_conv(input = layer_conv1,\n",
    "                                      num_input_channels = num_filters_1,\n",
    "                                      filter_size = filter_size_2,\n",
    "                                      num_filters = num_filters_2,\n",
    "                                      use_pooling=False)\n",
    "layer_flat,num_features = flatten_layer(layer_conv2)\n",
    "layer_fc1=new_fc_layer(input=layer_flat,\n",
    "                       num_inputs=num_features,\n",
    "                       num_outputs=fc_size)\n",
    "layer_fc1=tf.layers.dropout(layer_fc1,0.25)\n",
    "layer_fc2=new_fc_layer(input=layer_fc1,\n",
    "                      num_inputs=fc_size,\n",
    "                      num_outputs=num_classes,\n",
    "                      use_relu=False)\n",
    "\n",
    "layer_fc2=tf.layers.dropout(layer_fc2,0.5)\n",
    "\n",
    "y_pred=tf.nn.softmax(layer_fc2)\n",
    "y_pred_cls=tf.argmax(y_pred,axis=1)\n",
    "cross_entropy=tf.nn.softmax_cross_entropy_with_logits_v2(logits=layer_fc2,\n",
    "                                                     labels=y_true)\n",
    "cost=tf.reduce_mean(cross_entropy)\n",
    "optimizer=tf.train.AdamOptimizer(learning_rate=1e-4).minimize(cost)\n",
    "correct_prediction=tf.equal(y_true_cls,y_pred_cls)\n",
    "accuracy=tf.reduce_mean(tf.cast(correct_prediction,tf.float32))\n",
    "session.run(tf.global_variables_initializer())\n",
    "optimize(num_iter=200,optimizer=optimizer)\n",
    "print_acc()\n"
   ]
  },
  {
   "cell_type": "markdown",
   "metadata": {},
   "source": [
    "`\n",
    "use_max_pooling  False>True\n",
    "last_fc_layer_use_relu True<False\n",
    "`"
   ]
  },
  {
   "cell_type": "code",
   "execution_count": null,
   "metadata": {},
   "outputs": [],
   "source": []
  }
 ],
 "metadata": {
  "kernelspec": {
   "display_name": "Python 3",
   "language": "python",
   "name": "python3"
  },
  "language_info": {
   "codemirror_mode": {
    "name": "ipython",
    "version": 3
   },
   "file_extension": ".py",
   "mimetype": "text/x-python",
   "name": "python",
   "nbconvert_exporter": "python",
   "pygments_lexer": "ipython3",
   "version": "3.6.6"
  }
 },
 "nbformat": 4,
 "nbformat_minor": 2
}
